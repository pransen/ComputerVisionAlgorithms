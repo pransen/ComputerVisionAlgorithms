{
 "cells": [
  {
   "cell_type": "markdown",
   "metadata": {},
   "source": [
    "# Training a Neural Network on MNIST dataset on a lower dimensionl data using PCA"
   ]
  },
  {
   "cell_type": "code",
   "execution_count": 1,
   "metadata": {},
   "outputs": [],
   "source": [
    "import os\n",
    "import gzip\n",
    "import pickle\n",
    "import numpy as np\n",
    "from skimage.feature import hog\n",
    "from matplotlib import pyplot as plt\n",
    "from sklearn.neural_network import MLPClassifier\n",
    "from sklearn.preprocessing import StandardScaler\n",
    "from sklearn.decomposition import PCA"
   ]
  },
  {
   "cell_type": "markdown",
   "metadata": {},
   "source": [
    "### MNIST Dataset\n",
    "MNIST Dataset consists of 60000 images of hand written digits from 0-9. It is split into a traning set consisting of 50000 images and a test set consisting of 10000 images. Each image is a grayscale image with a dimension of 28 x 28."
   ]
  },
  {
   "cell_type": "code",
   "execution_count": 2,
   "metadata": {},
   "outputs": [],
   "source": [
    "# image size and the number of training and testing samples\n",
    "image_size = 28\n",
    "num_train = 50000\n",
    "num_test = 10000"
   ]
  },
  {
   "cell_type": "code",
   "execution_count": 3,
   "metadata": {},
   "outputs": [],
   "source": [
    "# Read the training data\n",
    "f = gzip.open(os.path.join('data', 'train-images-idx3-ubyte.gz'),'r')\n",
    "f.read(16)\n",
    "buf = f.read(image_size * image_size * num_train)\n",
    "train_data = np.frombuffer(buf, dtype=np.uint8).astype(np.float32)\n",
    "train_data = train_data.reshape(num_train, image_size, image_size)\n",
    "f.close()"
   ]
  },
  {
   "cell_type": "code",
   "execution_count": 4,
   "metadata": {},
   "outputs": [],
   "source": [
    "# Read the testing data\n",
    "f = gzip.open(os.path.join('data', 't10k-images-idx3-ubyte.gz'),'r')\n",
    "f.read(16)\n",
    "buf = f.read(image_size * image_size * num_test)\n",
    "test_data = np.frombuffer(buf, dtype=np.uint8).astype(np.float32)\n",
    "test_data = test_data.reshape(num_test, image_size, image_size)\n",
    "f.close()"
   ]
  },
  {
   "cell_type": "code",
   "execution_count": 5,
   "metadata": {},
   "outputs": [],
   "source": [
    "# Read the training labels\n",
    "f = gzip.open(os.path.join('data', 'train-labels-idx1-ubyte.gz'),'r')\n",
    "f.read(8)\n",
    "buf = f.read(num_train)\n",
    "train_labels = np.frombuffer(buf, dtype=np.uint8).astype(np.int64)\n",
    "train_labels = train_labels.reshape(num_train, )\n",
    "f.close()"
   ]
  },
  {
   "cell_type": "code",
   "execution_count": 6,
   "metadata": {},
   "outputs": [],
   "source": [
    "# Read the test labels\n",
    "f = gzip.open(os.path.join('data', 't10k-labels-idx1-ubyte.gz'),'r')\n",
    "f.read(8)\n",
    "buf = f.read(num_test)\n",
    "test_labels = np.frombuffer(buf, dtype=np.uint8).astype(np.int64)\n",
    "test_labels = test_labels.reshape(num_test,)\n",
    "f.close()"
   ]
  },
  {
   "cell_type": "code",
   "execution_count": 7,
   "metadata": {},
   "outputs": [
    {
     "data": {
      "image/png": "[encoded data removed]",
      "text/plain": [
       "<Figure size 432x288 with 1 Axes>"
      ]
     },
     "metadata": {
      "needs_background": "light"
     },
     "output_type": "display_data"
    }
   ],
   "source": [
    "# Display the first sample from the training data\n",
    "image = np.asarray(train_data[0]).squeeze()\n",
    "plt.imshow(image)\n",
    "plt.title(train_labels[0])\n",
    "plt.show()"
   ]
  },
  {
   "cell_type": "markdown",
   "metadata": {},
   "source": [
    "### Principal Component Analysis (PCA)\n",
    "Often when we have a dataset which spans multiple dimensions, chances are high that multiple dimensions may be capturing the same information in some form or the other. \n",
    "\n",
    "e.g., in a hypothetical scenario, a dataset might capture distance in both miles and kilometers as two distinct features, even though they convey the same information.\n",
    "\n",
    "**Principal Component Analysis** works by finding out the correlation between features in a n-dimensional feature space band then projecting the features to a d-dimensional orthogonal feature space, where d < n. Note that the term orthogonal is important as it ensures that the features in the d-dimensional feature space is uncorrelated. \n",
    "\n",
    "**Referernces**\n",
    "1. http://cs229.stanford.edu/notes/cs229-notes10.pdf\n",
    "2. https://en.wikipedia.org/wiki/Principal_component_analysis"
   ]
  },
  {
   "cell_type": "code",
   "execution_count": 8,
   "metadata": {},
   "outputs": [],
   "source": [
    "# Reshape the training and the test data\n",
    "train_data = train_data.reshape(num_train, image_size * image_size)\n",
    "test_data = test_data.reshape(num_test, image_size * image_size)"
   ]
  },
  {
   "cell_type": "code",
   "execution_count": 9,
   "metadata": {},
   "outputs": [
    {
     "name": "stdout",
     "output_type": "stream",
     "text": [
      "Before applying PCA: 784-dimensional feature space\n"
     ]
    }
   ],
   "source": [
    "print(\"Before applying PCA: {}-dimensional feature space\".format(train_data.shape[1]))"
   ]
  },
  {
   "cell_type": "code",
   "execution_count": 10,
   "metadata": {},
   "outputs": [],
   "source": [
    "# This is done to notmalize the training and the test data\n",
    "scaler = StandardScaler()\n",
    "scaler.fit(train_data)\n",
    "train_data_scaled = scaler.transform(train_data)\n",
    "test_data_scaled = scaler.transform(test_data)"
   ]
  },
  {
   "cell_type": "code",
   "execution_count": 11,
   "metadata": {},
   "outputs": [],
   "source": [
    "# Initialize the PCA, here we will be reducing our feature space from 784 dimensions to 12 dimensions\n",
    "pca = PCA(0.99, svd_solver='auto')\n",
    "pca.fit(train_data_scaled)\n",
    "train_features = pca.transform(train_data_scaled)\n",
    "test_features = pca.transform(test_data_scaled)"
   ]
  },
  {
   "cell_type": "code",
   "execution_count": 12,
   "metadata": {},
   "outputs": [
    {
     "name": "stdout",
     "output_type": "stream",
     "text": [
      "After applying PCA: 540-dimensional feature space\n"
     ]
    }
   ],
   "source": [
    "print(\"After applying PCA: {}-dimensional feature space\".format(train_features.shape[1]))"
   ]
  },
  {
   "cell_type": "code",
   "execution_count": 13,
   "metadata": {},
   "outputs": [],
   "source": [
    "clf = MLPClassifier(solver='adam', \n",
    "                    activation='relu', \n",
    "                    alpha=.0001, \n",
    "                    hidden_layer_sizes=(512, 256, 128, 10), \n",
    "                    random_state=1, \n",
    "                    max_iter=200)"
   ]
  },
  {
   "cell_type": "code",
   "execution_count": 14,
   "metadata": {},
   "outputs": [
    {
     "data": {
      "text/plain": [
       "MLPClassifier(hidden_layer_sizes=(512, 256, 128, 10), random_state=1)"
      ]
     },
     "execution_count": 14,
     "metadata": {},
     "output_type": "execute_result"
    }
   ],
   "source": [
    "clf.fit(train_features, train_labels)"
   ]
  },
  {
   "cell_type": "code",
   "execution_count": 15,
   "metadata": {},
   "outputs": [],
   "source": [
    "pred = clf.predict(train_features)\n",
    "train_accuracy = np.mean(pred == train_labels)"
   ]
  },
  {
   "cell_type": "code",
   "execution_count": 16,
   "metadata": {},
   "outputs": [],
   "source": [
    "pred = clf.predict(test_features)\n",
    "test_accuracy = np.mean(pred == test_labels)"
   ]
  },
  {
   "cell_type": "code",
   "execution_count": 17,
   "metadata": {},
   "outputs": [
    {
     "name": "stdout",
     "output_type": "stream",
     "text": [
      "Training accuracy: 0.9984\n",
      "Testing accuracy: 0.9721\n"
     ]
    }
   ],
   "source": [
    "print(\"Training accuracy: {}\".format(train_accuracy))\n",
    "print(\"Testing accuracy: {}\".format(test_accuracy))"
   ]
  },
  {
   "cell_type": "code",
   "execution_count": 18,
   "metadata": {},
   "outputs": [
    {
     "name": "stdout",
     "output_type": "stream",
     "text": [
      "Number of images incorrectly classified: 279\n"
     ]
    }
   ],
   "source": [
    "num_wrong_cls = np.sum(pred != test_labels)\n",
    "print(\"Number of images incorrectly classified: {}\".format(num_wrong_cls))"
   ]
  },
  {
   "cell_type": "code",
   "execution_count": 19,
   "metadata": {},
   "outputs": [],
   "source": [
    "# Save the weights file to disc\n",
    "pickle.dump(clf, open(\"mnist_pca.sav\", 'wb'))"
   ]
  },
  {
   "cell_type": "code",
   "execution_count": 20,
   "metadata": {},
   "outputs": [],
   "source": [
    "incorrect_pred = pred != test_labels\n",
    "incorrect_idx = np.where(incorrect_pred == True)\n",
    "top_five = incorrect_idx[0][:5]"
   ]
  },
  {
   "cell_type": "code",
   "execution_count": 21,
   "metadata": {},
   "outputs": [
    {
     "data": {
      "image/png": "[encoded data removed]",
      "text/plain": [
       "<Figure size 720x720 with 5 Axes>"
      ]
     },
     "metadata": {},
     "output_type": "display_data"
    }
   ],
   "source": [
    "plt.figure(figsize = (10, 10))\n",
    "for i, idx in enumerate(top_five):\n",
    "    plt.subplot(5,1,i + 1),plt.imshow(test_data[idx].reshape(image_size, image_size),cmap = 'gray')\n",
    "    plt.title('Actual {} | Predicted: {}'.format(test_labels[idx], pred[idx])), plt.xticks([]), plt.yticks([])\n",
    "plt.show()"
   ]
  },
  {
   "cell_type": "code",
   "execution_count": null,
   "metadata": {},
   "outputs": [],
   "source": []
  }
 ],
 "metadata": {
  "kernelspec": {
   "display_name": "Python 3",
   "language": "python",
   "name": "python3"
  },
  "language_info": {
   "codemirror_mode": {
    "name": "ipython",
    "version": 3
   },
   "file_extension": ".py",
   "mimetype": "text/x-python",
   "name": "python",
   "nbconvert_exporter": "python",
   "pygments_lexer": "ipython3",
   "version": "3.6.8"
  }
 },
 "nbformat": 4,
 "nbformat_minor": 4
}
